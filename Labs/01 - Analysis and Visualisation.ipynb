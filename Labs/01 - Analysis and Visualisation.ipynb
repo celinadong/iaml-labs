{
 "cells": [
  {
   "cell_type": "markdown",
   "metadata": {},
   "source": [
    "# Introductory applied machine learning (INFR10069)"
   ]
  },
  {
   "cell_type": "markdown",
   "metadata": {},
   "source": [
    "# Lab 1: Data analysis and visualisation"
   ]
  },
  {
   "cell_type": "markdown",
   "metadata": {},
   "source": [
    "In this lab we work with a spam filtering dataset. We will perform exploratory data analysis, visualisation and, finally, we learn how to perform classification tasks using Naive Bayes. For this, we will use the the packages introduced in Lab 1, and `scikit-learn` package (`sklearn`): a machine learning library for Python which works with numpy array, and pandas DataFrame objects."
   ]
  },
  {
   "cell_type": "markdown",
   "metadata": {},
   "source": [
    "**Please Note**: Throughout this lab we make reference to [`methods`](https://en.wikipedia.org/wiki/Method_%28computer_programming%29) for specific objects e.g. \"make use of the predict method of the MultinomialNB classifier\". If you get confused, refer to the documentation and just ctrl+f for the object concerned:\n",
    "* [Scikit-learn API documentation](http://scikit-learn.org/0.19/modules/classes.html) \n",
    "* [Seaborn API documentation](https://seaborn.github.io/api.html)\n",
    "* [Matplotlib Pyplot documentation](http://matplotlib.org/2.2.3/api/pyplot_summary.html)\n",
    "* [Pandas API documentation](http://pandas.pydata.org/pandas-docs/version/0.23.4/api.html)\n",
    "* [Numpy documentation](https://docs.scipy.org/doc/numpy-1.15.0/reference/)\n",
    "\n",
    "There are also tonnes of great examples online; googling key words with the word \"example\" will serve you well."
   ]
  },
  {
   "cell_type": "markdown",
   "metadata": {},
   "source": [
    "First, we need to import the packages (run all the code cells as you read along):"
   ]
  },
  {
   "cell_type": "code",
   "execution_count": 1,
   "metadata": {},
   "outputs": [
    {
     "name": "stderr",
     "output_type": "stream",
     "text": [
      "/Users/celinadong/anaconda3/envs/py3iaml/lib/python3.7/site-packages/sklearn/utils/__init__.py:4: DeprecationWarning: Using or importing the ABCs from 'collections' instead of from 'collections.abc' is deprecated, and in 3.8 it will stop working\n",
      "  from collections import Sequence\n"
     ]
    }
   ],
   "source": [
    "# Import packages\n",
    "import os\n",
    "import numpy as np \n",
    "import pandas as pd\n",
    "import matplotlib.pyplot as plt\n",
    "import seaborn as sns\n",
    "from sklearn.naive_bayes import MultinomialNB\n",
    "from sklearn.metrics import accuracy_score, confusion_matrix\n",
    "%matplotlib inline"
   ]
  },
  {
   "cell_type": "markdown",
   "metadata": {},
   "source": [
    "*Clarification*:\n",
    "\n",
    "* The `%matplotlib inline` command is a special ipython [built in magic command](http://ipython.readthedocs.io/en/stable/interactive/magics.html) which forces the matplotlib plots to be rendered within the notebook."
   ]
  },
  {
   "cell_type": "markdown",
   "metadata": {},
   "source": [
    "## Spambase dataset"
   ]
  },
  {
   "cell_type": "markdown",
   "metadata": {},
   "source": [
    "The [Spambase](http://archive.ics.uci.edu/ml/datasets/Spambase) dataset consists of tagged emails from a single email account. You should read through the description available for this data to get a feel for what you're dealing with. We have downloaded the dataset for you.\n",
    "\n",
    "You will find the dataset located at `./datasets/spambase.csv` (the `datasets` directory is adjacent to this file). Execute the cell below to load the csv into in a pandas DataFrame object. "
   ]
  },
  {
   "cell_type": "code",
   "execution_count": 2,
   "metadata": {},
   "outputs": [],
   "source": [
    "# Load the dataset\n",
    "data_path = os.path.join(os.getcwd(), 'datasets', 'spambase.csv')\n",
    "spambase = pd.read_csv(data_path, delimiter = ',')"
   ]
  },
  {
   "cell_type": "markdown",
   "metadata": {},
   "source": [
    "We have now loaded the data. Let's get a feeling of what the data looks like by using the `head()` method."
   ]
  },
  {
   "cell_type": "code",
   "execution_count": 4,
   "metadata": {},
   "outputs": [
    {
     "data": {
      "text/html": [
       "<div>\n",
       "<style scoped>\n",
       "    .dataframe tbody tr th:only-of-type {\n",
       "        vertical-align: middle;\n",
       "    }\n",
       "\n",
       "    .dataframe tbody tr th {\n",
       "        vertical-align: top;\n",
       "    }\n",
       "\n",
       "    .dataframe thead th {\n",
       "        text-align: right;\n",
       "    }\n",
       "</style>\n",
       "<table border=\"1\" class=\"dataframe\">\n",
       "  <thead>\n",
       "    <tr style=\"text-align: right;\">\n",
       "      <th></th>\n",
       "      <th>word_freq_make</th>\n",
       "      <th>word_freq_address</th>\n",
       "      <th>word_freq_all</th>\n",
       "      <th>word_freq_3d</th>\n",
       "      <th>word_freq_our</th>\n",
       "      <th>word_freq_over</th>\n",
       "      <th>word_freq_remove</th>\n",
       "      <th>word_freq_internet</th>\n",
       "      <th>word_freq_order</th>\n",
       "      <th>word_freq_mail</th>\n",
       "      <th>...</th>\n",
       "      <th>char_freq_;</th>\n",
       "      <th>char_freq_(</th>\n",
       "      <th>char_freq_[</th>\n",
       "      <th>char_freq_!</th>\n",
       "      <th>char_freq_$</th>\n",
       "      <th>char_freq_#</th>\n",
       "      <th>capital_run_length_average</th>\n",
       "      <th>capital_run_length_longest</th>\n",
       "      <th>capital_run_length_total</th>\n",
       "      <th>is_spam</th>\n",
       "    </tr>\n",
       "  </thead>\n",
       "  <tbody>\n",
       "    <tr>\n",
       "      <th>0</th>\n",
       "      <td>0.00</td>\n",
       "      <td>0.64</td>\n",
       "      <td>0.64</td>\n",
       "      <td>0.0</td>\n",
       "      <td>0.32</td>\n",
       "      <td>0.00</td>\n",
       "      <td>0.00</td>\n",
       "      <td>0.00</td>\n",
       "      <td>0.00</td>\n",
       "      <td>0.00</td>\n",
       "      <td>...</td>\n",
       "      <td>0.00</td>\n",
       "      <td>0.000</td>\n",
       "      <td>0.0</td>\n",
       "      <td>0.778</td>\n",
       "      <td>0.000</td>\n",
       "      <td>0.000</td>\n",
       "      <td>3.756</td>\n",
       "      <td>61.0</td>\n",
       "      <td>278.0</td>\n",
       "      <td>1.0</td>\n",
       "    </tr>\n",
       "    <tr>\n",
       "      <th>1</th>\n",
       "      <td>0.21</td>\n",
       "      <td>0.28</td>\n",
       "      <td>0.50</td>\n",
       "      <td>0.0</td>\n",
       "      <td>0.14</td>\n",
       "      <td>0.28</td>\n",
       "      <td>0.21</td>\n",
       "      <td>0.07</td>\n",
       "      <td>0.00</td>\n",
       "      <td>0.94</td>\n",
       "      <td>...</td>\n",
       "      <td>0.00</td>\n",
       "      <td>0.132</td>\n",
       "      <td>0.0</td>\n",
       "      <td>0.372</td>\n",
       "      <td>0.180</td>\n",
       "      <td>0.048</td>\n",
       "      <td>5.114</td>\n",
       "      <td>101.0</td>\n",
       "      <td>1028.0</td>\n",
       "      <td>1.0</td>\n",
       "    </tr>\n",
       "    <tr>\n",
       "      <th>2</th>\n",
       "      <td>0.06</td>\n",
       "      <td>0.00</td>\n",
       "      <td>0.71</td>\n",
       "      <td>0.0</td>\n",
       "      <td>1.23</td>\n",
       "      <td>0.19</td>\n",
       "      <td>0.19</td>\n",
       "      <td>0.12</td>\n",
       "      <td>0.64</td>\n",
       "      <td>0.25</td>\n",
       "      <td>...</td>\n",
       "      <td>0.01</td>\n",
       "      <td>0.143</td>\n",
       "      <td>0.0</td>\n",
       "      <td>0.276</td>\n",
       "      <td>0.184</td>\n",
       "      <td>0.010</td>\n",
       "      <td>9.821</td>\n",
       "      <td>485.0</td>\n",
       "      <td>2259.0</td>\n",
       "      <td>1.0</td>\n",
       "    </tr>\n",
       "    <tr>\n",
       "      <th>3</th>\n",
       "      <td>0.00</td>\n",
       "      <td>0.00</td>\n",
       "      <td>0.00</td>\n",
       "      <td>0.0</td>\n",
       "      <td>0.63</td>\n",
       "      <td>0.00</td>\n",
       "      <td>0.31</td>\n",
       "      <td>0.63</td>\n",
       "      <td>0.31</td>\n",
       "      <td>0.63</td>\n",
       "      <td>...</td>\n",
       "      <td>0.00</td>\n",
       "      <td>0.137</td>\n",
       "      <td>0.0</td>\n",
       "      <td>0.137</td>\n",
       "      <td>0.000</td>\n",
       "      <td>0.000</td>\n",
       "      <td>3.537</td>\n",
       "      <td>40.0</td>\n",
       "      <td>191.0</td>\n",
       "      <td>1.0</td>\n",
       "    </tr>\n",
       "    <tr>\n",
       "      <th>4</th>\n",
       "      <td>0.00</td>\n",
       "      <td>0.00</td>\n",
       "      <td>0.00</td>\n",
       "      <td>0.0</td>\n",
       "      <td>0.63</td>\n",
       "      <td>0.00</td>\n",
       "      <td>0.31</td>\n",
       "      <td>0.63</td>\n",
       "      <td>0.31</td>\n",
       "      <td>0.63</td>\n",
       "      <td>...</td>\n",
       "      <td>0.00</td>\n",
       "      <td>0.135</td>\n",
       "      <td>0.0</td>\n",
       "      <td>0.135</td>\n",
       "      <td>0.000</td>\n",
       "      <td>0.000</td>\n",
       "      <td>3.537</td>\n",
       "      <td>40.0</td>\n",
       "      <td>191.0</td>\n",
       "      <td>1.0</td>\n",
       "    </tr>\n",
       "  </tbody>\n",
       "</table>\n",
       "<p>5 rows × 58 columns</p>\n",
       "</div>"
      ],
      "text/plain": [
       "   word_freq_make  word_freq_address  word_freq_all  word_freq_3d  \\\n",
       "0            0.00               0.64           0.64           0.0   \n",
       "1            0.21               0.28           0.50           0.0   \n",
       "2            0.06               0.00           0.71           0.0   \n",
       "3            0.00               0.00           0.00           0.0   \n",
       "4            0.00               0.00           0.00           0.0   \n",
       "\n",
       "   word_freq_our  word_freq_over  word_freq_remove  word_freq_internet  \\\n",
       "0           0.32            0.00              0.00                0.00   \n",
       "1           0.14            0.28              0.21                0.07   \n",
       "2           1.23            0.19              0.19                0.12   \n",
       "3           0.63            0.00              0.31                0.63   \n",
       "4           0.63            0.00              0.31                0.63   \n",
       "\n",
       "   word_freq_order  word_freq_mail   ...     char_freq_;  char_freq_(  \\\n",
       "0             0.00            0.00   ...            0.00        0.000   \n",
       "1             0.00            0.94   ...            0.00        0.132   \n",
       "2             0.64            0.25   ...            0.01        0.143   \n",
       "3             0.31            0.63   ...            0.00        0.137   \n",
       "4             0.31            0.63   ...            0.00        0.135   \n",
       "\n",
       "   char_freq_[  char_freq_!  char_freq_$  char_freq_#  \\\n",
       "0          0.0        0.778        0.000        0.000   \n",
       "1          0.0        0.372        0.180        0.048   \n",
       "2          0.0        0.276        0.184        0.010   \n",
       "3          0.0        0.137        0.000        0.000   \n",
       "4          0.0        0.135        0.000        0.000   \n",
       "\n",
       "   capital_run_length_average  capital_run_length_longest  \\\n",
       "0                       3.756                        61.0   \n",
       "1                       5.114                       101.0   \n",
       "2                       9.821                       485.0   \n",
       "3                       3.537                        40.0   \n",
       "4                       3.537                        40.0   \n",
       "\n",
       "   capital_run_length_total  is_spam  \n",
       "0                     278.0      1.0  \n",
       "1                    1028.0      1.0  \n",
       "2                    2259.0      1.0  \n",
       "3                     191.0      1.0  \n",
       "4                     191.0      1.0  \n",
       "\n",
       "[5 rows x 58 columns]"
      ]
     },
     "execution_count": 4,
     "metadata": {},
     "output_type": "execute_result"
    }
   ],
   "source": [
    "spambase.head(5) # Display the 5 first rows of the dataframe"
   ]
  },
  {
   "cell_type": "markdown",
   "metadata": {},
   "source": [
    "### ========== Question 1 =========="
   ]
  },
  {
   "cell_type": "markdown",
   "metadata": {},
   "source": [
    "**a)** Display the number of attributes in the dataset (i.e. number of columns)."
   ]
  },
  {
   "cell_type": "code",
   "execution_count": 8,
   "metadata": {},
   "outputs": [
    {
     "data": {
      "text/plain": [
       "58"
      ]
     },
     "execution_count": 8,
     "metadata": {},
     "output_type": "execute_result"
    }
   ],
   "source": [
    "# Your Code goes here:\n",
    "spambase.shape[1]"
   ]
  },
  {
   "cell_type": "markdown",
   "metadata": {},
   "source": [
    "**b)** Display the number of observations (i.e. number of rows)."
   ]
  },
  {
   "cell_type": "code",
   "execution_count": 9,
   "metadata": {},
   "outputs": [
    {
     "data": {
      "text/plain": [
       "4601"
      ]
     },
     "execution_count": 9,
     "metadata": {},
     "output_type": "execute_result"
    }
   ],
   "source": [
    "# Your Code goes here:\n",
    "spambase.shape[0]"
   ]
  },
  {
   "cell_type": "markdown",
   "metadata": {},
   "source": [
    "**c)** Display the mean and standard deviation of each attribute."
   ]
  },
  {
   "cell_type": "code",
   "execution_count": 14,
   "metadata": {},
   "outputs": [
    {
     "data": {
      "text/plain": [
       "word_freq_make                  0.104553\n",
       "word_freq_address               0.213015\n",
       "word_freq_all                   0.280656\n",
       "word_freq_3d                    0.065425\n",
       "word_freq_our                   0.312223\n",
       "word_freq_over                  0.095901\n",
       "word_freq_remove                0.114208\n",
       "word_freq_internet              0.105295\n",
       "word_freq_order                 0.090067\n",
       "word_freq_mail                  0.239413\n",
       "word_freq_receive               0.059824\n",
       "word_freq_will                  0.541702\n",
       "word_freq_people                0.093930\n",
       "word_freq_report                0.058626\n",
       "word_freq_addresses             0.049205\n",
       "word_freq_free                  0.248848\n",
       "word_freq_business              0.142586\n",
       "word_freq_email                 0.184745\n",
       "word_freq_you                   1.662100\n",
       "word_freq_credit                0.085577\n",
       "word_freq_your                  0.809761\n",
       "word_freq_font                  0.121202\n",
       "word_freq_000                   0.101645\n",
       "word_freq_money                 0.094269\n",
       "word_freq_hp                    0.549504\n",
       "word_freq_hpl                   0.265384\n",
       "word_freq_george                0.767305\n",
       "word_freq_650                   0.124845\n",
       "word_freq_lab                   0.098915\n",
       "word_freq_labs                  0.102852\n",
       "word_freq_telnet                0.064753\n",
       "word_freq_857                   0.047048\n",
       "word_freq_data                  0.097229\n",
       "word_freq_415                   0.047835\n",
       "word_freq_85                    0.105412\n",
       "word_freq_technology            0.097477\n",
       "word_freq_1999                  0.136953\n",
       "word_freq_parts                 0.013201\n",
       "word_freq_pm                    0.078629\n",
       "word_freq_direct                0.064834\n",
       "word_freq_cs                    0.043667\n",
       "word_freq_meeting               0.132339\n",
       "word_freq_original              0.046099\n",
       "word_freq_project               0.079196\n",
       "word_freq_re                    0.301224\n",
       "word_freq_edu                   0.179824\n",
       "word_freq_table                 0.005444\n",
       "word_freq_conference            0.031869\n",
       "char_freq_;                     0.038575\n",
       "char_freq_(                     0.139030\n",
       "char_freq_[                     0.016976\n",
       "char_freq_!                     0.269071\n",
       "char_freq_$                     0.075811\n",
       "char_freq_#                     0.044238\n",
       "capital_run_length_average      5.191515\n",
       "capital_run_length_longest     52.172789\n",
       "capital_run_length_total      283.289285\n",
       "is_spam                         0.394045\n",
       "dtype: float64"
      ]
     },
     "execution_count": 14,
     "metadata": {},
     "output_type": "execute_result"
    }
   ],
   "source": [
    "# Your Code goes here:\n",
    "spambase.mean()"
   ]
  },
  {
   "cell_type": "code",
   "execution_count": 16,
   "metadata": {},
   "outputs": [
    {
     "data": {
      "text/plain": [
       "<bound method DataFrame.std of       word_freq_make  word_freq_address  word_freq_all  word_freq_3d  \\\n",
       "0               0.00               0.64           0.64           0.0   \n",
       "1               0.21               0.28           0.50           0.0   \n",
       "2               0.06               0.00           0.71           0.0   \n",
       "3               0.00               0.00           0.00           0.0   \n",
       "4               0.00               0.00           0.00           0.0   \n",
       "5               0.00               0.00           0.00           0.0   \n",
       "6               0.00               0.00           0.00           0.0   \n",
       "7               0.00               0.00           0.00           0.0   \n",
       "8               0.15               0.00           0.46           0.0   \n",
       "9               0.06               0.12           0.77           0.0   \n",
       "10              0.00               0.00           0.00           0.0   \n",
       "11              0.00               0.00           0.25           0.0   \n",
       "12              0.00               0.69           0.34           0.0   \n",
       "13              0.00               0.00           0.00           0.0   \n",
       "14              0.00               0.00           1.42           0.0   \n",
       "15              0.00               0.42           0.42           0.0   \n",
       "16              0.00               0.00           0.00           0.0   \n",
       "17              0.00               0.00           0.00           0.0   \n",
       "18              0.00               0.00           0.55           0.0   \n",
       "19              0.00               0.63           0.00           0.0   \n",
       "20              0.00               0.00           0.00           0.0   \n",
       "21              0.05               0.07           0.10           0.0   \n",
       "22              0.00               0.00           0.00           0.0   \n",
       "23              0.00               0.00           0.00           0.0   \n",
       "24              0.00               0.00           0.00           0.0   \n",
       "25              0.05               0.07           0.10           0.0   \n",
       "26              0.00               0.00           0.00           0.0   \n",
       "27              0.00               0.00           0.00           0.0   \n",
       "28              0.00               0.00           0.00           0.0   \n",
       "29              0.00               0.00           0.00           0.0   \n",
       "...              ...                ...            ...           ...   \n",
       "4571            0.00               0.00           0.46           0.0   \n",
       "4572            0.00               0.00           0.00           0.0   \n",
       "4573            0.00               0.00           0.18           0.0   \n",
       "4574            0.29               0.00           0.29           0.0   \n",
       "4575            0.00               0.00           0.00           0.0   \n",
       "4576            0.00               0.00           0.00           0.0   \n",
       "4577            0.00               0.00           1.20           0.0   \n",
       "4578            0.00               0.00           0.40           0.0   \n",
       "4579            0.27               0.05           0.10           0.0   \n",
       "4580            0.00               0.00           0.00           0.0   \n",
       "4581            0.00               0.00           0.00           0.0   \n",
       "4582            0.00               0.00           0.00           0.0   \n",
       "4583            0.00               0.00           1.23           0.0   \n",
       "4584            0.00               0.00           0.45           0.0   \n",
       "4585            0.00               0.00           0.00           0.0   \n",
       "4586            0.00               0.00           0.00           0.0   \n",
       "4587            0.00               0.00           0.00           0.0   \n",
       "4588            0.00               0.00           3.03           0.0   \n",
       "4589            0.00               0.00           0.00           0.0   \n",
       "4590            0.00               0.00           0.00           0.0   \n",
       "4591            0.00               0.00           0.00           0.0   \n",
       "4592            0.00               0.00           1.25           0.0   \n",
       "4593            0.00               0.00           0.00           0.0   \n",
       "4594            0.00               0.00           0.00           0.0   \n",
       "4595            0.00               0.00           1.19           0.0   \n",
       "4596            0.31               0.00           0.62           0.0   \n",
       "4597            0.00               0.00           0.00           0.0   \n",
       "4598            0.30               0.00           0.30           0.0   \n",
       "4599            0.96               0.00           0.00           0.0   \n",
       "4600            0.00               0.00           0.65           0.0   \n",
       "\n",
       "      word_freq_our  word_freq_over  word_freq_remove  word_freq_internet  \\\n",
       "0              0.32            0.00              0.00                0.00   \n",
       "1              0.14            0.28              0.21                0.07   \n",
       "2              1.23            0.19              0.19                0.12   \n",
       "3              0.63            0.00              0.31                0.63   \n",
       "4              0.63            0.00              0.31                0.63   \n",
       "5              1.85            0.00              0.00                1.85   \n",
       "6              1.92            0.00              0.00                0.00   \n",
       "7              1.88            0.00              0.00                1.88   \n",
       "8              0.61            0.00              0.30                0.00   \n",
       "9              0.19            0.32              0.38                0.00   \n",
       "10             0.00            0.00              0.96                0.00   \n",
       "11             0.38            0.25              0.25                0.00   \n",
       "12             0.34            0.00              0.00                0.00   \n",
       "13             0.90            0.00              0.90                0.00   \n",
       "14             0.71            0.35              0.00                0.35   \n",
       "15             1.27            0.00              0.42                0.00   \n",
       "16             0.94            0.00              0.00                0.00   \n",
       "17             0.00            0.00              0.00                0.00   \n",
       "18             1.11            0.00              0.18                0.00   \n",
       "19             1.59            0.31              0.00                0.00   \n",
       "20             0.00            0.00              0.00                0.00   \n",
       "21             0.76            0.05              0.15                0.02   \n",
       "22             2.94            0.00              0.00                0.00   \n",
       "23             1.16            0.00              0.00                0.00   \n",
       "24             0.00            0.00              0.00                0.00   \n",
       "25             0.76            0.05              0.15                0.02   \n",
       "26             0.00            0.00              0.00                0.00   \n",
       "27             0.00            0.00              1.66                0.00   \n",
       "28             0.00            0.00              0.00                0.00   \n",
       "29             0.65            0.00              0.65                0.00   \n",
       "...             ...             ...               ...                 ...   \n",
       "4571           0.23            0.23              0.00                0.00   \n",
       "4572           0.00            0.00              0.00                0.00   \n",
       "4573           0.18            0.18              0.00                0.00   \n",
       "4574           0.00            0.00              0.00                0.00   \n",
       "4575           0.00            0.00              0.00                0.00   \n",
       "4576           0.00            0.00              0.00                0.00   \n",
       "4577           0.00            0.00              0.00                0.00   \n",
       "4578           0.00            0.00              0.00                0.00   \n",
       "4579           0.00            0.00              0.00                0.00   \n",
       "4580           0.00            0.00              0.00                0.00   \n",
       "4581           0.00            0.51              0.00                0.00   \n",
       "4582           0.00            0.00              0.00                0.00   \n",
       "4583           0.00            0.00              0.00                0.00   \n",
       "4584           0.00            0.22              0.00                0.00   \n",
       "4585           0.00            0.00              0.00                0.00   \n",
       "4586           0.36            0.00              0.00                0.00   \n",
       "4587           0.00            0.00              0.00                0.00   \n",
       "4588           0.00            0.00              0.00                0.00   \n",
       "4589           0.54            0.00              0.00                0.00   \n",
       "4590           0.00            0.00              0.00                0.00   \n",
       "4591           0.00            0.00              0.00                0.00   \n",
       "4592           2.50            0.00              0.00                0.00   \n",
       "4593           0.00            0.00              0.00                0.00   \n",
       "4594           0.00            0.00              0.00                0.00   \n",
       "4595           0.00            0.00              0.00                0.00   \n",
       "4596           0.00            0.31              0.00                0.00   \n",
       "4597           0.00            0.00              0.00                0.00   \n",
       "4598           0.00            0.00              0.00                0.00   \n",
       "4599           0.32            0.00              0.00                0.00   \n",
       "4600           0.00            0.00              0.00                0.00   \n",
       "\n",
       "      word_freq_order  word_freq_mail   ...     char_freq_;  char_freq_(  \\\n",
       "0                0.00            0.00   ...           0.000        0.000   \n",
       "1                0.00            0.94   ...           0.000        0.132   \n",
       "2                0.64            0.25   ...           0.010        0.143   \n",
       "3                0.31            0.63   ...           0.000        0.137   \n",
       "4                0.31            0.63   ...           0.000        0.135   \n",
       "5                0.00            0.00   ...           0.000        0.223   \n",
       "6                0.00            0.64   ...           0.000        0.054   \n",
       "7                0.00            0.00   ...           0.000        0.206   \n",
       "8                0.92            0.76   ...           0.000        0.271   \n",
       "9                0.06            0.00   ...           0.040        0.030   \n",
       "10               0.00            1.92   ...           0.000        0.000   \n",
       "11               0.00            0.00   ...           0.022        0.044   \n",
       "12               0.00            0.00   ...           0.000        0.056   \n",
       "13               0.00            0.90   ...           0.000        0.000   \n",
       "14               0.00            0.71   ...           0.000        0.102   \n",
       "15               0.00            1.27   ...           0.000        0.063   \n",
       "16               0.00            0.00   ...           0.000        0.000   \n",
       "17               0.00            0.00   ...           0.000        0.000   \n",
       "18               0.00            0.00   ...           0.000        0.182   \n",
       "19               0.31            0.00   ...           0.000        0.275   \n",
       "20               0.00            0.00   ...           0.000        0.729   \n",
       "21               0.55            0.00   ...           0.042        0.101   \n",
       "22               0.00            0.00   ...           0.404        0.404   \n",
       "23               0.00            0.00   ...           0.000        0.133   \n",
       "24               0.00            0.00   ...           0.000        0.196   \n",
       "25               0.55            0.00   ...           0.042        0.101   \n",
       "26               0.00            0.00   ...           0.000        0.196   \n",
       "27               0.00            0.00   ...           0.000        0.000   \n",
       "28               0.00            0.00   ...           0.000        0.352   \n",
       "29               0.00            0.00   ...           0.000        0.459   \n",
       "...               ...             ...   ...             ...          ...   \n",
       "4571             0.00            0.00   ...           0.000        0.082   \n",
       "4572             0.00            0.00   ...           0.000        0.254   \n",
       "4573             0.00            0.00   ...           0.033        0.033   \n",
       "4574             0.00            0.29   ...           0.000        0.107   \n",
       "4575             0.00            1.38   ...           0.000        0.213   \n",
       "4576             0.00            0.00   ...           0.000        0.131   \n",
       "4577             0.00            0.00   ...           0.000        0.000   \n",
       "4578             0.00            0.00   ...           0.000        0.000   \n",
       "4579             0.00            0.00   ...           0.607        0.064   \n",
       "4580             0.00            0.00   ...           0.000        0.000   \n",
       "4581             0.00            0.00   ...           0.000        0.091   \n",
       "4582             0.00            0.00   ...           0.000        0.000   \n",
       "4583             0.00            0.00   ...           0.000        0.000   \n",
       "4584             0.00            0.00   ...           0.000        0.082   \n",
       "4585             0.00            0.00   ...           0.000        0.625   \n",
       "4586             0.00            0.00   ...           0.000        0.112   \n",
       "4587             0.00            0.00   ...           0.000        0.125   \n",
       "4588             0.00            0.00   ...           0.000        0.000   \n",
       "4589             0.00            0.00   ...           0.000        0.000   \n",
       "4590             0.00            0.00   ...           0.000        0.185   \n",
       "4591             0.00            0.00   ...           0.000        0.000   \n",
       "4592             0.00            0.00   ...           0.000        0.111   \n",
       "4593             0.00            0.00   ...           0.000        0.000   \n",
       "4594             0.00            0.00   ...           0.000        0.630   \n",
       "4595             0.00            0.00   ...           0.000        0.000   \n",
       "4596             0.00            0.00   ...           0.000        0.232   \n",
       "4597             0.00            0.00   ...           0.000        0.000   \n",
       "4598             0.00            0.00   ...           0.102        0.718   \n",
       "4599             0.00            0.00   ...           0.000        0.057   \n",
       "4600             0.00            0.00   ...           0.000        0.000   \n",
       "\n",
       "      char_freq_[  char_freq_!  char_freq_$  char_freq_#  \\\n",
       "0           0.000        0.778        0.000        0.000   \n",
       "1           0.000        0.372        0.180        0.048   \n",
       "2           0.000        0.276        0.184        0.010   \n",
       "3           0.000        0.137        0.000        0.000   \n",
       "4           0.000        0.135        0.000        0.000   \n",
       "5           0.000        0.000        0.000        0.000   \n",
       "6           0.000        0.164        0.054        0.000   \n",
       "7           0.000        0.000        0.000        0.000   \n",
       "8           0.000        0.181        0.203        0.022   \n",
       "9           0.000        0.244        0.081        0.000   \n",
       "10          0.000        0.462        0.000        0.000   \n",
       "11          0.000        0.663        0.000        0.000   \n",
       "12          0.000        0.786        0.000        0.000   \n",
       "13          0.000        0.000        0.000        0.000   \n",
       "14          0.000        0.357        0.000        0.000   \n",
       "15          0.000        0.572        0.063        0.000   \n",
       "16          0.000        0.428        0.000        0.000   \n",
       "17          0.000        1.975        0.370        0.000   \n",
       "18          0.000        0.455        0.000        0.000   \n",
       "19          0.000        0.055        0.496        0.000   \n",
       "20          0.000        0.729        0.000        0.000   \n",
       "21          0.016        0.250        0.046        0.059   \n",
       "22          0.000        0.809        0.000        0.000   \n",
       "23          0.000        0.667        0.000        0.000   \n",
       "24          0.000        0.392        0.196        0.000   \n",
       "25          0.016        0.250        0.046        0.059   \n",
       "26          0.000        0.392        0.196        0.000   \n",
       "27          0.000        0.368        0.000        0.000   \n",
       "28          0.000        0.352        0.000        0.000   \n",
       "29          0.000        0.091        0.000        0.000   \n",
       "...           ...          ...          ...          ...   \n",
       "4571        0.000        0.082        0.000        0.000   \n",
       "4572        0.000        0.000        0.000        0.000   \n",
       "4573        0.000        0.099        0.000        0.000   \n",
       "4574        0.000        0.000        0.000        0.000   \n",
       "4575        0.000        0.000        0.000        0.000   \n",
       "4576        0.000        0.000        0.000        0.000   \n",
       "4577        0.000        0.000        0.000        0.000   \n",
       "4578        0.145        0.000        0.000        0.000   \n",
       "4579        0.036        0.055        0.000        0.202   \n",
       "4580        0.000        0.000        0.000        0.000   \n",
       "4581        0.000        0.091        0.000        0.000   \n",
       "4582        0.000        0.000        0.000        0.000   \n",
       "4583        0.406        0.000        0.000        0.000   \n",
       "4584        0.000        0.041        0.000        0.000   \n",
       "4585        0.000        0.000        0.000        0.000   \n",
       "4586        0.000        0.000        0.000        0.056   \n",
       "4587        0.000        0.000        0.125        0.000   \n",
       "4588        0.000        0.000        0.000        0.000   \n",
       "4589        0.000        0.000        0.000        0.000   \n",
       "4590        0.000        0.000        0.000        0.092   \n",
       "4591        0.000        0.000        0.000        0.000   \n",
       "4592        0.000        0.000        0.000        0.000   \n",
       "4593        0.000        1.052        0.000        0.000   \n",
       "4594        0.000        0.000        0.000        0.000   \n",
       "4595        0.000        0.000        0.000        0.000   \n",
       "4596        0.000        0.000        0.000        0.000   \n",
       "4597        0.000        0.353        0.000        0.000   \n",
       "4598        0.000        0.000        0.000        0.000   \n",
       "4599        0.000        0.000        0.000        0.000   \n",
       "4600        0.000        0.125        0.000        0.000   \n",
       "\n",
       "      capital_run_length_average  capital_run_length_longest  \\\n",
       "0                          3.756                        61.0   \n",
       "1                          5.114                       101.0   \n",
       "2                          9.821                       485.0   \n",
       "3                          3.537                        40.0   \n",
       "4                          3.537                        40.0   \n",
       "5                          3.000                        15.0   \n",
       "6                          1.671                         4.0   \n",
       "7                          2.450                        11.0   \n",
       "8                          9.744                       445.0   \n",
       "9                          1.729                        43.0   \n",
       "10                         1.312                         6.0   \n",
       "11                         1.243                        11.0   \n",
       "12                         3.728                        61.0   \n",
       "13                         2.083                         7.0   \n",
       "14                         1.971                        24.0   \n",
       "15                         5.659                        55.0   \n",
       "16                         4.652                        31.0   \n",
       "17                        35.461                        95.0   \n",
       "18                         1.320                         4.0   \n",
       "19                         3.509                        91.0   \n",
       "20                         3.833                         9.0   \n",
       "21                         2.569                        66.0   \n",
       "22                         4.857                        12.0   \n",
       "23                         1.131                         5.0   \n",
       "24                         5.466                        22.0   \n",
       "25                         2.565                        66.0   \n",
       "26                         5.466                        22.0   \n",
       "27                         2.611                        12.0   \n",
       "28                         4.000                        11.0   \n",
       "29                         2.687                        66.0   \n",
       "...                          ...                         ...   \n",
       "4571                       1.256                         5.0   \n",
       "4572                       1.000                         1.0   \n",
       "4573                       1.489                        11.0   \n",
       "4574                       1.220                         6.0   \n",
       "4575                       1.720                        11.0   \n",
       "4576                       1.488                         5.0   \n",
       "4577                       1.200                         3.0   \n",
       "4578                       1.372                         5.0   \n",
       "4579                       3.766                        43.0   \n",
       "4580                       1.571                         5.0   \n",
       "4581                       1.586                         4.0   \n",
       "4582                       1.266                         3.0   \n",
       "4583                       1.666                        13.0   \n",
       "4584                       1.500                         7.0   \n",
       "4585                       1.375                         4.0   \n",
       "4586                       1.793                        21.0   \n",
       "4587                       1.272                         4.0   \n",
       "4588                       1.111                         2.0   \n",
       "4589                       1.000                         1.0   \n",
       "4590                       2.468                        11.0   \n",
       "4591                       1.000                         1.0   \n",
       "4592                       1.285                         4.0   \n",
       "4593                       1.000                         1.0   \n",
       "4594                       1.727                         5.0   \n",
       "4595                       1.000                         1.0   \n",
       "4596                       1.142                         3.0   \n",
       "4597                       1.555                         4.0   \n",
       "4598                       1.404                         6.0   \n",
       "4599                       1.147                         5.0   \n",
       "4600                       1.250                         5.0   \n",
       "\n",
       "      capital_run_length_total  is_spam  \n",
       "0                        278.0      1.0  \n",
       "1                       1028.0      1.0  \n",
       "2                       2259.0      1.0  \n",
       "3                        191.0      1.0  \n",
       "4                        191.0      1.0  \n",
       "5                         54.0      1.0  \n",
       "6                        112.0      1.0  \n",
       "7                         49.0      1.0  \n",
       "8                       1257.0      1.0  \n",
       "9                        749.0      1.0  \n",
       "10                        21.0      1.0  \n",
       "11                       184.0      1.0  \n",
       "12                       261.0      1.0  \n",
       "13                        25.0      1.0  \n",
       "14                       205.0      1.0  \n",
       "15                       249.0      1.0  \n",
       "16                       107.0      1.0  \n",
       "17                       461.0      1.0  \n",
       "18                        70.0      1.0  \n",
       "19                       186.0      1.0  \n",
       "20                        23.0      1.0  \n",
       "21                      2259.0      1.0  \n",
       "22                        34.0      1.0  \n",
       "23                        69.0      1.0  \n",
       "24                        82.0      1.0  \n",
       "25                      2258.0      1.0  \n",
       "26                        82.0      1.0  \n",
       "27                        47.0      1.0  \n",
       "28                        36.0      1.0  \n",
       "29                       129.0      1.0  \n",
       "...                        ...      ...  \n",
       "4571                      98.0      0.0  \n",
       "4572                      13.0      0.0  \n",
       "4573                     137.0      0.0  \n",
       "4574                      61.0      0.0  \n",
       "4575                      43.0      0.0  \n",
       "4576                      64.0      0.0  \n",
       "4577                      24.0      0.0  \n",
       "4578                      70.0      0.0  \n",
       "4579                    1789.0      0.0  \n",
       "4580                      11.0      0.0  \n",
       "4581                      46.0      0.0  \n",
       "4582                      19.0      0.0  \n",
       "4583                      70.0      0.0  \n",
       "4584                     123.0      0.0  \n",
       "4585                      11.0      0.0  \n",
       "4586                     174.0      0.0  \n",
       "4587                      28.0      0.0  \n",
       "4588                      10.0      0.0  \n",
       "4589                      22.0      0.0  \n",
       "4590                      79.0      0.0  \n",
       "4591                       8.0      0.0  \n",
       "4592                      27.0      0.0  \n",
       "4593                       6.0      0.0  \n",
       "4594                      19.0      0.0  \n",
       "4595                      24.0      0.0  \n",
       "4596                      88.0      0.0  \n",
       "4597                      14.0      0.0  \n",
       "4598                     118.0      0.0  \n",
       "4599                      78.0      0.0  \n",
       "4600                      40.0      0.0  \n",
       "\n",
       "[4601 rows x 58 columns]>"
      ]
     },
     "execution_count": 16,
     "metadata": {},
     "output_type": "execute_result"
    }
   ],
   "source": [
    "spambase.std"
   ]
  },
  {
   "cell_type": "markdown",
   "metadata": {},
   "source": [
    "We now want to *remove* some of the attributes from our data. There are various reasons for wanting to do so, for instance we might think that these are not relevant to the task we want to perform (i.e. e-mail classification) or they might have been contaminated with noise during the data collection process."
   ]
  },
  {
   "cell_type": "markdown",
   "metadata": {},
   "source": [
    "## Data cleaning"
   ]
  },
  {
   "cell_type": "markdown",
   "metadata": {},
   "source": [
    "### ========== Question 2 =========="
   ]
  },
  {
   "cell_type": "markdown",
   "metadata": {},
   "source": [
    "**a)** Delete the `capital_run_length_average`, `capital_run_length_longest` and  `capital_run_length_total` attributes. \n",
    "*Hint*: You should make use of the [`drop`](http://pandas.pydata.org/pandas-docs/stable/generated/pandas.DataFrame.drop.html) method. \n",
    "\n",
    "*Tip*: some pandas methods have the argument `inplace` which you can use to determine whether they alter the object they are called upon and return nothing, or return a new object. This is particularly useful if you are dealing with huge datasets where you would typically want to operate `inplace`."
   ]
  },
  {
   "cell_type": "code",
   "execution_count": 26,
   "metadata": {},
   "outputs": [],
   "source": [
    "# Your Code goes here:\n",
    "spambase.drop(columns=['capital_run_length_average', 'capital_run_length_longest', 'capital_run_length_total'], inplace=True)"
   ]
  },
  {
   "cell_type": "markdown",
   "metadata": {},
   "source": [
    "**b)** Display the new number of attributes. Does it look like what you expected?"
   ]
  },
  {
   "cell_type": "code",
   "execution_count": 30,
   "metadata": {},
   "outputs": [
    {
     "data": {
      "text/plain": [
       "(55, 55)"
      ]
     },
     "execution_count": 30,
     "metadata": {},
     "output_type": "execute_result"
    }
   ],
   "source": [
    "# Your Code goes here:\n",
    "len(spambase.columns), spambase.shape[1]"
   ]
  },
  {
   "cell_type": "markdown",
   "metadata": {},
   "source": [
    "The remaining attributes represent relative frequencies of various important words and characters in emails. This is true for all attributes except `is_spam` which represents whether the e-mail was annotated as spam or not. So each e-mail is represented by a 55 dimensional vector representing whether or not a particular word exists in an e-mail. This is the so called [bag of words](http://en.wikipedia.org/wiki/Bag_of_words_model) representation and is clearly a very crude approximation since it does not take into account the order of the words in the emails."
   ]
  },
  {
   "cell_type": "markdown",
   "metadata": {},
   "source": [
    "### ========== Question 3 =========="
   ]
  },
  {
   "cell_type": "markdown",
   "metadata": {},
   "source": [
    "Now let's get a feeling of the distribution of ham (i.e. valid) vs. spam emails. We can do this by using a [countplot](https://seaborn.github.io/generated/seaborn.countplot.html?highlight=countplot#seaborn.countplot) in seaborn. In the code cell below, write code to:"
   ]
  },
  {
   "cell_type": "markdown",
   "metadata": {},
   "source": [
    "**a)** Produce a seaborn [countplot](https://seaborn.github.io/generated/seaborn.countplot.html?highlight=countplot#seaborn.countplot) object that shows the distribution of ham/spam e-mails. Assign it to a variable (e.g. `ax` to emphasise it is a [matplotlib.axes.Axes](https://matplotlib.org/2.2.3/api/axes_api.html) object)\n",
    "  \n",
    "**b)** In the same cell, modify the labels on the x axis (`xticklabels`) to `Ham` and `Spam` (by default they should be set to `0.0` and `1.0`). *Hint: Axes objects have a [`set_xticklabels`](https://matplotlib.org/2.2.3/api/_as_gen/matplotlib.axes.Axes.set_xticklabels.html#matplotlib.axes.Axes.set_xticklabels) method!* \n",
    "  \n",
    "**c)** Finally, again in the same cell, remove the `is_spam` label from the x axis (`xlabel`) since it does not add any information to the graph\n",
    "\n",
    "You may notice `<matplotlib.text.Text at ...memory_location...>` printed by the ipython notebook. This is just because the notebook is inferring how to display the last object in the cell. To explicitly plot the Axes object, use the `matplotlib.pyplot.show()` method at the very end of the cell, i.e. `plt.show()` (we imported the `matplotlib.pyplot` module as `plt` above)"
   ]
  },
  {
   "cell_type": "code",
   "execution_count": 40,
   "metadata": {},
   "outputs": [
    {
     "data": {
      "text/plain": [
       "[Text(0,0,'Ham'), Text(0,0,'Spam')]"
      ]
     },
     "execution_count": 40,
     "metadata": {},
     "output_type": "execute_result"
    },
    {
     "data": {
      "image/png": "[encoded data removed]",
      "text/plain": [
       "<Figure size 432x288 with 1 Axes>"
      ]
     },
     "metadata": {},
     "output_type": "display_data"
    }
   ],
   "source": [
    "#sns.set(style='darkgrid')\n",
    "ax = sns.countplot(x='is_spam', data=spambase)\n",
    "xticklabels = ['Ham', 'Spam']\n",
    "ax.set_xticklabels(xticklabels)"
   ]
  },
  {
   "cell_type": "markdown",
   "metadata": {},
   "source": [
    "Now we want to simplify the problem by transforming our dataset. We will replace all numerical values which represent word frequencies with a binary value representing whether each word was present in a document or not."
   ]
  },
  {
   "cell_type": "markdown",
   "metadata": {},
   "source": [
    "### ========== Question 4 ==========\n",
    "\n",
    "**a)** Crate a new dataframe called `spambase_binary` from `spambase`. *Hint*: Look into the [`copy`](http://pandas.pydata.org/pandas-docs/version/0.23.4/generated/pandas.DataFrame.copy.html) method in pandas. \n",
    "\n",
    "*Tip*: Be careful, in python, unless you explictly say not to, assigment is typically just reference e.g.\n",
    "```python\n",
    "i = [1, 3]\n",
    "j = i\n",
    "i[1] = 5\n",
    "print(j)\n",
    "```\n",
    "outputs:\n",
    "```\n",
    "[1, 5]\n",
    "```"
   ]
  },
  {
   "cell_type": "code",
   "execution_count": 54,
   "metadata": {},
   "outputs": [],
   "source": [
    "# Your Code goes here:\n",
    "spambase_binary = spambase.copy(deep=True) # deep: deep copy, including copy of data and indices"
   ]
  },
  {
   "cell_type": "markdown",
   "metadata": {},
   "source": [
    "**b)** Convert all attributes in `spambase_binary` to Boolean values: 1 if the word or character is present in the email, or 0 otherwise."
   ]
  },
  {
   "cell_type": "code",
   "execution_count": 55,
   "metadata": {},
   "outputs": [],
   "source": [
    "# Your Code goes here:\n",
    "spambase_binary[spambase_binary>0] = 1"
   ]
  },
  {
   "cell_type": "markdown",
   "metadata": {},
   "source": [
    "**c)** Display the 5 last observations of the transformed dataset."
   ]
  },
  {
   "cell_type": "code",
   "execution_count": 62,
   "metadata": {},
   "outputs": [
    {
     "data": {
      "text/html": [
       "<div>\n",
       "<style scoped>\n",
       "    .dataframe tbody tr th:only-of-type {\n",
       "        vertical-align: middle;\n",
       "    }\n",
       "\n",
       "    .dataframe tbody tr th {\n",
       "        vertical-align: top;\n",
       "    }\n",
       "\n",
       "    .dataframe thead th {\n",
       "        text-align: right;\n",
       "    }\n",
       "</style>\n",
       "<table border=\"1\" class=\"dataframe\">\n",
       "  <thead>\n",
       "    <tr style=\"text-align: right;\">\n",
       "      <th></th>\n",
       "      <th>word_freq_make</th>\n",
       "      <th>word_freq_address</th>\n",
       "      <th>word_freq_all</th>\n",
       "      <th>word_freq_3d</th>\n",
       "      <th>word_freq_our</th>\n",
       "      <th>word_freq_over</th>\n",
       "      <th>word_freq_remove</th>\n",
       "      <th>word_freq_internet</th>\n",
       "      <th>word_freq_order</th>\n",
       "      <th>word_freq_mail</th>\n",
       "      <th>...</th>\n",
       "      <th>word_freq_edu</th>\n",
       "      <th>word_freq_table</th>\n",
       "      <th>word_freq_conference</th>\n",
       "      <th>char_freq_;</th>\n",
       "      <th>char_freq_(</th>\n",
       "      <th>char_freq_[</th>\n",
       "      <th>char_freq_!</th>\n",
       "      <th>char_freq_$</th>\n",
       "      <th>char_freq_#</th>\n",
       "      <th>is_spam</th>\n",
       "    </tr>\n",
       "  </thead>\n",
       "  <tbody>\n",
       "    <tr>\n",
       "      <th>4596</th>\n",
       "      <td>1.0</td>\n",
       "      <td>0.0</td>\n",
       "      <td>1.0</td>\n",
       "      <td>0.0</td>\n",
       "      <td>0.0</td>\n",
       "      <td>1.0</td>\n",
       "      <td>0.0</td>\n",
       "      <td>0.0</td>\n",
       "      <td>0.0</td>\n",
       "      <td>0.0</td>\n",
       "      <td>...</td>\n",
       "      <td>1.0</td>\n",
       "      <td>0.0</td>\n",
       "      <td>0.0</td>\n",
       "      <td>0.0</td>\n",
       "      <td>1.0</td>\n",
       "      <td>0.0</td>\n",
       "      <td>0.0</td>\n",
       "      <td>0.0</td>\n",
       "      <td>0.0</td>\n",
       "      <td>0.0</td>\n",
       "    </tr>\n",
       "    <tr>\n",
       "      <th>4597</th>\n",
       "      <td>0.0</td>\n",
       "      <td>0.0</td>\n",
       "      <td>0.0</td>\n",
       "      <td>0.0</td>\n",
       "      <td>0.0</td>\n",
       "      <td>0.0</td>\n",
       "      <td>0.0</td>\n",
       "      <td>0.0</td>\n",
       "      <td>0.0</td>\n",
       "      <td>0.0</td>\n",
       "      <td>...</td>\n",
       "      <td>1.0</td>\n",
       "      <td>0.0</td>\n",
       "      <td>0.0</td>\n",
       "      <td>0.0</td>\n",
       "      <td>0.0</td>\n",
       "      <td>0.0</td>\n",
       "      <td>1.0</td>\n",
       "      <td>0.0</td>\n",
       "      <td>0.0</td>\n",
       "      <td>0.0</td>\n",
       "    </tr>\n",
       "    <tr>\n",
       "      <th>4598</th>\n",
       "      <td>1.0</td>\n",
       "      <td>0.0</td>\n",
       "      <td>1.0</td>\n",
       "      <td>0.0</td>\n",
       "      <td>0.0</td>\n",
       "      <td>0.0</td>\n",
       "      <td>0.0</td>\n",
       "      <td>0.0</td>\n",
       "      <td>0.0</td>\n",
       "      <td>0.0</td>\n",
       "      <td>...</td>\n",
       "      <td>1.0</td>\n",
       "      <td>0.0</td>\n",
       "      <td>0.0</td>\n",
       "      <td>1.0</td>\n",
       "      <td>1.0</td>\n",
       "      <td>0.0</td>\n",
       "      <td>0.0</td>\n",
       "      <td>0.0</td>\n",
       "      <td>0.0</td>\n",
       "      <td>0.0</td>\n",
       "    </tr>\n",
       "    <tr>\n",
       "      <th>4599</th>\n",
       "      <td>1.0</td>\n",
       "      <td>0.0</td>\n",
       "      <td>0.0</td>\n",
       "      <td>0.0</td>\n",
       "      <td>1.0</td>\n",
       "      <td>0.0</td>\n",
       "      <td>0.0</td>\n",
       "      <td>0.0</td>\n",
       "      <td>0.0</td>\n",
       "      <td>0.0</td>\n",
       "      <td>...</td>\n",
       "      <td>1.0</td>\n",
       "      <td>0.0</td>\n",
       "      <td>0.0</td>\n",
       "      <td>0.0</td>\n",
       "      <td>1.0</td>\n",
       "      <td>0.0</td>\n",
       "      <td>0.0</td>\n",
       "      <td>0.0</td>\n",
       "      <td>0.0</td>\n",
       "      <td>0.0</td>\n",
       "    </tr>\n",
       "    <tr>\n",
       "      <th>4600</th>\n",
       "      <td>0.0</td>\n",
       "      <td>0.0</td>\n",
       "      <td>1.0</td>\n",
       "      <td>0.0</td>\n",
       "      <td>0.0</td>\n",
       "      <td>0.0</td>\n",
       "      <td>0.0</td>\n",
       "      <td>0.0</td>\n",
       "      <td>0.0</td>\n",
       "      <td>0.0</td>\n",
       "      <td>...</td>\n",
       "      <td>1.0</td>\n",
       "      <td>0.0</td>\n",
       "      <td>0.0</td>\n",
       "      <td>0.0</td>\n",
       "      <td>0.0</td>\n",
       "      <td>0.0</td>\n",
       "      <td>1.0</td>\n",
       "      <td>0.0</td>\n",
       "      <td>0.0</td>\n",
       "      <td>0.0</td>\n",
       "    </tr>\n",
       "  </tbody>\n",
       "</table>\n",
       "<p>5 rows × 55 columns</p>\n",
       "</div>"
      ],
      "text/plain": [
       "      word_freq_make  word_freq_address  word_freq_all  word_freq_3d  \\\n",
       "4596             1.0                0.0            1.0           0.0   \n",
       "4597             0.0                0.0            0.0           0.0   \n",
       "4598             1.0                0.0            1.0           0.0   \n",
       "4599             1.0                0.0            0.0           0.0   \n",
       "4600             0.0                0.0            1.0           0.0   \n",
       "\n",
       "      word_freq_our  word_freq_over  word_freq_remove  word_freq_internet  \\\n",
       "4596            0.0             1.0               0.0                 0.0   \n",
       "4597            0.0             0.0               0.0                 0.0   \n",
       "4598            0.0             0.0               0.0                 0.0   \n",
       "4599            1.0             0.0               0.0                 0.0   \n",
       "4600            0.0             0.0               0.0                 0.0   \n",
       "\n",
       "      word_freq_order  word_freq_mail   ...     word_freq_edu  \\\n",
       "4596              0.0             0.0   ...               1.0   \n",
       "4597              0.0             0.0   ...               1.0   \n",
       "4598              0.0             0.0   ...               1.0   \n",
       "4599              0.0             0.0   ...               1.0   \n",
       "4600              0.0             0.0   ...               1.0   \n",
       "\n",
       "      word_freq_table  word_freq_conference  char_freq_;  char_freq_(  \\\n",
       "4596              0.0                   0.0          0.0          1.0   \n",
       "4597              0.0                   0.0          0.0          0.0   \n",
       "4598              0.0                   0.0          1.0          1.0   \n",
       "4599              0.0                   0.0          0.0          1.0   \n",
       "4600              0.0                   0.0          0.0          0.0   \n",
       "\n",
       "      char_freq_[  char_freq_!  char_freq_$  char_freq_#  is_spam  \n",
       "4596          0.0          0.0          0.0          0.0      0.0  \n",
       "4597          0.0          1.0          0.0          0.0      0.0  \n",
       "4598          0.0          0.0          0.0          0.0      0.0  \n",
       "4599          0.0          0.0          0.0          0.0      0.0  \n",
       "4600          0.0          1.0          0.0          0.0      0.0  \n",
       "\n",
       "[5 rows x 55 columns]"
      ]
     },
     "execution_count": 62,
     "metadata": {},
     "output_type": "execute_result"
    }
   ],
   "source": [
    "# Your Code goes here:\n",
    "spambase_binary.tail(5)"
   ]
  },
  {
   "cell_type": "markdown",
   "metadata": {},
   "source": [
    "## Visualisation"
   ]
  },
  {
   "cell_type": "markdown",
   "metadata": {},
   "source": [
    "Now we want to get a feeling for how the presence or absence of some specific words could affect the outcome (whether an email is classifed as *ham* or *spam*). We will be focusing on three specific words, namely `make`, `internet` and `edu`."
   ]
  },
  {
   "cell_type": "markdown",
   "metadata": {},
   "source": [
    "### ========== Question 5 ==========\n",
    "\n",
    "**a)** Using seaborn, produce one figure with three [countplots](https://seaborn.github.io/generated/seaborn.countplot.html?highlight=countplot#seaborn.countplot), one for each of the frequency variables for the words `make`, `internet` and `edu`. For each variable, the count plot should have two bars: the number of emails containing the word (i.e. the variable = 1), and the number not containing that word (i.e. the variable = 0)."
   ]
  },
  {
   "cell_type": "code",
   "execution_count": null,
   "metadata": {
    "collapsed": true
   },
   "outputs": [],
   "source": [
    "# Your Code goes here:\n"
   ]
  },
  {
   "cell_type": "markdown",
   "metadata": {},
   "source": [
    "**b)** Repeat the above but split the bars showing the proportion of emails that are spam/ham. *Hint*: This only requires you to use the `hue` input argument to use different colours for the `is_spam` variable."
   ]
  },
  {
   "cell_type": "code",
   "execution_count": null,
   "metadata": {
    "collapsed": true
   },
   "outputs": [],
   "source": [
    "# Your Code goes here:"
   ]
  },
  {
   "cell_type": "markdown",
   "metadata": {},
   "source": [
    "## Multinomial Naive Bayes classification"
   ]
  },
  {
   "cell_type": "markdown",
   "metadata": {},
   "source": [
    "Given the transformed dataset, we now wish to train a Naïve Bayes classifier to distinguish spam from regular email by fitting a distribution of the number of occurrences of each word for all the spam and non-spam e-mails. Read about the [Naive Bayes classifier](https://en.wikipedia.org/wiki/Naive_Bayes_classifier) and the underlying assumption if you are not already familiar with it. In this lab we focus on the [Multinomial Naive Bayes classifier](https://en.wikipedia.org/wiki/Naive_Bayes_classifier#Multinomial_naive_Bayes). \n",
    "\n",
    "We will make use of the `MultinomialNB` class in `sklearn`. **Check out the user guide [description](http://scikit-learn.org/0.19/modules/naive_bayes.html#multinomial-naive-bayes) and [documentation](http://scikit-learn.org/0.19/modules/generated/sklearn.naive_bayes.MultinomialNB.html#sklearn.naive_bayes.MultinomialNB) to familiarise yourself with this class.**"
   ]
  },
  {
   "cell_type": "markdown",
   "metadata": {},
   "source": [
    "All classifiers in `sklearn` implement a `fit()` and `predict()` [method](https://en.wikipedia.org/wiki/Method_%28computer_programming%29). The first learns the parameters of the model and the latter classifies inputs. For a Naive Bayes classifier, the [`fit`](http://scikit-learn.org/0.19/modules/generated/sklearn.naive_bayes.MultinomialNB.html#sklearn.naive_bayes.MultinomialNB.fit) method takes at least two input arguments `X` and `y`, where `X` are the input features and `y` are the labels associated with each example in the training dataset (i.e. targets). \n",
    "\n",
    "As a first step we extract the input features and targets from the DataFrame. To do so, we will use the [`values`](http://pandas.pydata.org/pandas-docs/version/0.23.4/generated/pandas.DataFrame.values.html) property. For the input features we want to select all columns except `is_spam` and for this we may use the [`drop`](http://pandas.pydata.org/pandas-docs/version/0.23.4/generated/pandas.DataFrame.drop.html) method which discards the specified columns along the given axis. In fact, we can combine these two operations in one step."
   ]
  },
  {
   "cell_type": "markdown",
   "metadata": {},
   "source": [
    "### ========== Question 6 =========="
   ]
  },
  {
   "cell_type": "markdown",
   "metadata": {},
   "source": [
    "**a)** Create a Pandas DataFrame object `X` containing only the features (i.e. exclude the label `is_spam`). We need to do this as it is the input Scikit-learn objects expect for fitting. *Hint*: make use of the `drop` method."
   ]
  },
  {
   "cell_type": "code",
   "execution_count": null,
   "metadata": {
    "collapsed": true
   },
   "outputs": [],
   "source": [
    "# Your Code goes here:"
   ]
  },
  {
   "cell_type": "markdown",
   "metadata": {},
   "source": [
    "**b)** Create a Pandas Series object `y` that contains only the label from `spambase_binary`."
   ]
  },
  {
   "cell_type": "code",
   "execution_count": null,
   "metadata": {
    "collapsed": true
   },
   "outputs": [],
   "source": [
    "# Your Code goes here:"
   ]
  },
  {
   "cell_type": "markdown",
   "metadata": {},
   "source": [
    "**c)** Display the dimensionality (i.e. `shape`) of each of the two arrays. *Hint:* The shape of `X` and `y` should be `(4601, 54)` and `(4601,)` respectively."
   ]
  },
  {
   "cell_type": "code",
   "execution_count": null,
   "metadata": {
    "collapsed": true
   },
   "outputs": [],
   "source": [
    "# Your Code goes here:"
   ]
  },
  {
   "cell_type": "markdown",
   "metadata": {},
   "source": [
    "### ========== Question 7 ==========\n",
    "\n",
    "Now we want to train a Multinomial Naive Bayes classifier. Initialise a `MultinomialNB` object and [`fit`](http://scikit-learn.org/0.19/modules/generated/sklearn.naive_bayes.MultinomialNB.html#sklearn.naive_bayes.MultinomialNB.fit) the classifier using the `X` and `y` arrays extracted in the cell above."
   ]
  },
  {
   "cell_type": "code",
   "execution_count": null,
   "metadata": {
    "collapsed": true
   },
   "outputs": [],
   "source": [
    "# Your Code goes here:"
   ]
  },
  {
   "cell_type": "markdown",
   "metadata": {},
   "source": [
    "## Model evaluation"
   ]
  },
  {
   "cell_type": "markdown",
   "metadata": {},
   "source": [
    "We can evaluate the classifier by looking at the classification accuracy, and the [confusion matrix](https://en.wikipedia.org/wiki/Confusion_matrix). \n",
    "\n",
    "Scikit-learn model objects have built in scoring methods. The default [`score` method for `MultinomialNB`](http://scikit-learn.org/0.19/modules/generated/sklearn.naive_bayes.MultinomialNB.html#sklearn.naive_bayes.MultinomialNB.score) estimates the classification accuracy score. Alternatively, you can compute the prediction for the training data and make use of the [`accuracy_score`](http://scikit-learn.org/0.19/modules/generated/sklearn.metrics.accuracy_score.html) function (that is in fact what the classifier's `score()` method does under the hood).\n",
    "\n",
    "Scikit-learn also has a [`confusion_matrix`](http://scikit-learn.org/0.19/modules/generated/sklearn.metrics.confusion_matrix.html#sklearn.metrics.confusion_matrix) implementation which returns a numpy array (square matrix) of dimensionality `K`, where `K` is the number of classes (2 in our case)."
   ]
  },
  {
   "cell_type": "markdown",
   "metadata": {},
   "source": [
    "### ========== Question 8 ========== "
   ]
  },
  {
   "cell_type": "markdown",
   "metadata": {},
   "source": [
    "**a)** Display the log-prior probabilities for each class. *Hint:* use tab-completion to figure out which attribute of the `MultinomialNB` structure you are interested in."
   ]
  },
  {
   "cell_type": "code",
   "execution_count": null,
   "metadata": {
    "collapsed": true
   },
   "outputs": [],
   "source": [
    "# Your Code goes here:"
   ]
  },
  {
   "cell_type": "markdown",
   "metadata": {},
   "source": [
    "**b)** Predict the output of the classifier by using the training data as input. *Hint*: make use of the `predict` method of the `MultinomialNB` classifier."
   ]
  },
  {
   "cell_type": "code",
   "execution_count": null,
   "metadata": {
    "collapsed": true
   },
   "outputs": [],
   "source": [
    "# Your Code goes here:"
   ]
  },
  {
   "cell_type": "markdown",
   "metadata": {},
   "source": [
    "**c)** Compute the classification accuracy on the training data by either using the `accuracy_score` metric or the `score` method of the `MultinomialNB`. "
   ]
  },
  {
   "cell_type": "code",
   "execution_count": null,
   "metadata": {
    "collapsed": true
   },
   "outputs": [],
   "source": [
    "# Your Code goes here:"
   ]
  },
  {
   "cell_type": "markdown",
   "metadata": {},
   "source": [
    "**d)** Compute the resulting confusion_matrix by using the builtin scikit-learn class and display the result. "
   ]
  },
  {
   "cell_type": "code",
   "execution_count": null,
   "metadata": {
    "collapsed": true
   },
   "outputs": [],
   "source": [
    "# Your Code goes here:"
   ]
  },
  {
   "cell_type": "markdown",
   "metadata": {},
   "source": [
    "**e)** Normalise the produced confusion matrix by the true class and display the result. In other words, the matrix should show you what proportion of `Ham` emails were predicted as `Ham`/`Spam` and vice versa."
   ]
  },
  {
   "cell_type": "code",
   "execution_count": null,
   "metadata": {
    "collapsed": true
   },
   "outputs": [],
   "source": [
    "# Your Code goes here:"
   ]
  },
  {
   "cell_type": "markdown",
   "metadata": {},
   "source": [
    "**f)** By making use of the `plot_confusion_matrix` provided below, visualise the normalised confusion matrix. Plot the appropriate labels on both axes by making use of the `classes` input argument."
   ]
  },
  {
   "cell_type": "code",
   "execution_count": null,
   "metadata": {
    "collapsed": true
   },
   "outputs": [],
   "source": [
    "def plot_confusion_matrix(cm, classes=None, title='Confusion matrix'):\n",
    "    \"\"\"Plots a confusion matrix.\"\"\"\n",
    "    if classes is not None:\n",
    "        sns.heatmap(cm, xticklabels=classes, yticklabels=classes, vmin=0., vmax=1., annot=True)\n",
    "    else:\n",
    "        sns.heatmap(cm, vmin=0., vmax=1.)\n",
    "    plt.title(title)\n",
    "    plt.ylabel('True label')\n",
    "    plt.xlabel('Predicted label')"
   ]
  },
  {
   "cell_type": "code",
   "execution_count": null,
   "metadata": {
    "collapsed": true
   },
   "outputs": [],
   "source": [
    "# Your Code goes here:"
   ]
  },
  {
   "cell_type": "markdown",
   "metadata": {},
   "source": [
    "### ========== Question 9 ==========\n",
    "\n",
    "Study the output produced, most importantly the percentages of correctly and incorrectly classified instances. You probably will notice that your classifer does rather well despite making a very strong assumption on the form of the data. If we didn't make this assumption, what would be the main practical problems? *Hint*: If you've forgotten the assumption of the Naive Bayes model, check wikipedia and/or sklearn documentation."
   ]
  },
  {
   "cell_type": "markdown",
   "metadata": {},
   "source": [
    "***Your answer goes here:***"
   ]
  },
  {
   "cell_type": "markdown",
   "metadata": {},
   "source": [
    "### ========== Question 10 =========="
   ]
  },
  {
   "cell_type": "markdown",
   "metadata": {},
   "source": [
    "The empirical log probability of input features given a class $P\\left(x_i  |  y\\right)$ is given by the attribute `feature_log_prob` of the classifier. For each feature there are two such conditional probabilities, one for each class. "
   ]
  },
  {
   "cell_type": "markdown",
   "metadata": {},
   "source": [
    "**a)** What dimensionality do you expect the `feature_log_prob_` array to have? Why?"
   ]
  },
  {
   "cell_type": "markdown",
   "metadata": {},
   "source": [
    "***Your answer goes here:***"
   ]
  },
  {
   "cell_type": "markdown",
   "metadata": {},
   "source": [
    "**b)** Inspect the log probabilities of the features. Verify that it has the expected dimensionality (i.e. `shape`)."
   ]
  },
  {
   "cell_type": "code",
   "execution_count": null,
   "metadata": {
    "collapsed": true
   },
   "outputs": [],
   "source": [
    "# Your Code goes here:"
   ]
  },
  {
   "cell_type": "markdown",
   "metadata": {},
   "source": [
    "**c)** Create a list of the names of the features that have higher log probability when the email is `Ham` than `Spam` i.e. what features imply an email is more likely to be `Ham`? *Hint:* There are a many ways to do this. Try it on your own then, if you get stuck, you can do it using index numbers (look up [`np.argwhere`](http://docs.scipy.org/doc/numpy-1.15.0/reference/generated/numpy.argwhere.html)), or using a boolean mask (look up [pandas indexing](http://pandas.pydata.org/pandas-docs/version/0.23.4/indexing.html)). The column names of a Pandas DataFrame are contained in the `columns` attribute."
   ]
  },
  {
   "cell_type": "code",
   "execution_count": null,
   "metadata": {
    "collapsed": true
   },
   "outputs": [],
   "source": [
    "# Your Code goes here:"
   ]
  },
  {
   "cell_type": "markdown",
   "metadata": {},
   "source": [
    "### ========== Question 11 =========="
   ]
  },
  {
   "cell_type": "markdown",
   "metadata": {},
   "source": [
    "For the final part of this section we will now pretend we are spammers wishing to fool a spam checking system based on Naïve Bayes into classifying a spam e-mail as ham (i.e. a valid e-mail). For this we will use a test set consisting of just one data point (i.e. e-mail). This tiny dataset is called `spambase_test` and has already been pre-processed for you which means that the redundant attributes have been removed and word frequencies have been replaced by word presence/absence."
   ]
  },
  {
   "cell_type": "markdown",
   "metadata": {},
   "source": [
    "**a)** Load `./datasets/spambase_test.csv` dataset into a new pandas structure"
   ]
  },
  {
   "cell_type": "code",
   "execution_count": null,
   "metadata": {
    "collapsed": true
   },
   "outputs": [],
   "source": [
    "# Your Code goes here:"
   ]
  },
  {
   "cell_type": "markdown",
   "metadata": {},
   "source": [
    "**b)** Use `spambase_test` to create a pandas DataFrame object X_test, contatining the test features, and pandas Series object y_test, containing the test outcome"
   ]
  },
  {
   "cell_type": "code",
   "execution_count": null,
   "metadata": {
    "collapsed": true
   },
   "outputs": [],
   "source": [
    "# Your Code goes here:"
   ]
  },
  {
   "cell_type": "markdown",
   "metadata": {},
   "source": [
    "**c)** Feed the input features into the classifier and compare the outcome to the true label. Make sure you don't feed the target into the classifier as you will receive an error (why?). Does the classifer classify the spam e-mail correctly?"
   ]
  },
  {
   "cell_type": "code",
   "execution_count": null,
   "metadata": {
    "collapsed": true
   },
   "outputs": [],
   "source": [
    "# Your Code goes here:"
   ]
  },
  {
   "cell_type": "markdown",
   "metadata": {},
   "source": [
    "**d)** Pick one (perhaps random) attribute that has higher probability for the ham class (using your feature names in Question 10c) and set the corresponding value in `X_test` to 1. Now predict the new outcome. Has it changed? If not, keep modifying more attributes until you have achieved the desired outcome (i.e. model classifies the e-mail as ham)."
   ]
  },
  {
   "cell_type": "code",
   "execution_count": null,
   "metadata": {
    "collapsed": true
   },
   "outputs": [],
   "source": [
    "# Your Code goes here:"
   ]
  },
  {
   "cell_type": "markdown",
   "metadata": {},
   "source": [
    "### ========== Question 12 =========="
   ]
  },
  {
   "cell_type": "markdown",
   "metadata": {},
   "source": [
    "**This is an extension for people keen to learn more advanced plotting.** We'll be happy to discuss your conclusions in the lab."
   ]
  },
  {
   "cell_type": "markdown",
   "metadata": {},
   "source": [
    "**a)** Create a plot of the spam/ham log probabilities for all of the features. This will help you find the spammiest/hammiest words to use in your emails! *Hint*: you can do this however you like, but try 'adapting' [this matplotlib demo](https://matplotlib.org/2.2.3/gallery/statistics/barchart_demo.html?highlight=bar%20chart)"
   ]
  },
  {
   "cell_type": "code",
   "execution_count": null,
   "metadata": {
    "collapsed": true
   },
   "outputs": [],
   "source": [
    "# Your Code goes here:"
   ]
  },
  {
   "cell_type": "markdown",
   "metadata": {},
   "source": [
    "**b)** The features are in the order they appear in the dataset. Can you order them by probability of being `Ham`?"
   ]
  },
  {
   "cell_type": "code",
   "execution_count": null,
   "metadata": {
    "collapsed": true
   },
   "outputs": [],
   "source": [
    "# Your Code goes here:"
   ]
  },
  {
   "cell_type": "markdown",
   "metadata": {},
   "source": [
    "**c)** What about ordering by the absolute difference between `Ham` and `Spam` log probability?"
   ]
  },
  {
   "cell_type": "code",
   "execution_count": null,
   "metadata": {
    "collapsed": true
   },
   "outputs": [],
   "source": [
    "# Your Code goes here:"
   ]
  }
 ],
 "metadata": {
  "kernelspec": {
   "display_name": "Python 3",
   "language": "python",
   "name": "python3"
  },
  "language_info": {
   "codemirror_mode": {
    "name": "ipython",
    "version": 3
   },
   "file_extension": ".py",
   "mimetype": "text/x-python",
   "name": "python",
   "nbconvert_exporter": "python",
   "pygments_lexer": "ipython3",
   "version": "3.7.4"
  }
 },
 "nbformat": 4,
 "nbformat_minor": 1
}
